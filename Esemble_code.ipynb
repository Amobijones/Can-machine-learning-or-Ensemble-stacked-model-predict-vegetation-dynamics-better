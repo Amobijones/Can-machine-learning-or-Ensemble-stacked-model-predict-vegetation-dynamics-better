{
 "cells": [
  {
   "cell_type": "markdown",
   "id": "cac4fe2b",
   "metadata": {},
   "source": [
    "Arthur: Amobichukwu Amanambu\n",
    "Objective: Using environmental variables to predict vegetation dynamic (in form of Hurst exponent) with machine learning. The feature data include, Digital elevation model, rainfall, distance from road, distance from stream etc. Note the Hurst exponent was calculated using NDVI from about 30 years. with the Hurst exponent model. the Hurst exponent procedure was not shown here. However, this project tries to investigate how different machine learning models can best predict Hurst exponent and whether an ensemble model can do a better job. It appears that even simple model can predict better result than the stacked model in this project"
   ]
  },
  {
   "cell_type": "markdown",
   "id": "f3b9bf6c",
   "metadata": {},
   "source": [
    "# Machine learning compare"
   ]
  },
  {
   "cell_type": "markdown",
   "id": "ec5620eb",
   "metadata": {},
   "source": [
    "# Import initial needed library"
   ]
  },
  {
   "cell_type": "code",
   "execution_count": 1,
   "id": "cbb6c710",
   "metadata": {},
   "outputs": [],
   "source": [
    "import numpy as np\n",
    "import matplotlib.pyplot as plt\n",
    "import pandas as pd"
   ]
  },
  {
   "cell_type": "markdown",
   "id": "e9b8ba55",
   "metadata": {},
   "source": [
    "# Import the environmental dataset"
   ]
  },
  {
   "cell_type": "code",
   "execution_count": 2,
   "id": "c256d1a1",
   "metadata": {},
   "outputs": [
    {
     "data": {
      "text/html": [
       "<div>\n",
       "<style scoped>\n",
       "    .dataframe tbody tr th:only-of-type {\n",
       "        vertical-align: middle;\n",
       "    }\n",
       "\n",
       "    .dataframe tbody tr th {\n",
       "        vertical-align: top;\n",
       "    }\n",
       "\n",
       "    .dataframe thead th {\n",
       "        text-align: right;\n",
       "    }\n",
       "</style>\n",
       "<table border=\"1\" class=\"dataframe\">\n",
       "  <thead>\n",
       "    <tr style=\"text-align: right;\">\n",
       "      <th></th>\n",
       "      <th>OID_</th>\n",
       "      <th>X</th>\n",
       "      <th>Y</th>\n",
       "      <th>Hurst</th>\n",
       "      <th>TWI</th>\n",
       "      <th>TPI300</th>\n",
       "      <th>TPI50</th>\n",
       "      <th>SPI</th>\n",
       "      <th>Slope</th>\n",
       "      <th>NS</th>\n",
       "      <th>DD</th>\n",
       "      <th>EW</th>\n",
       "      <th>Elv</th>\n",
       "      <th>pr</th>\n",
       "      <th>co</th>\n",
       "      <th>no2</th>\n",
       "      <th>o3</th>\n",
       "      <th>pm10</th>\n",
       "      <th>so2</th>\n",
       "      <th>Hurtz</th>\n",
       "    </tr>\n",
       "  </thead>\n",
       "  <tbody>\n",
       "    <tr>\n",
       "      <th>0</th>\n",
       "      <td>39</td>\n",
       "      <td>93965.4461</td>\n",
       "      <td>3295461.117</td>\n",
       "      <td>0.658765</td>\n",
       "      <td>5.938030</td>\n",
       "      <td>2.100799</td>\n",
       "      <td>1.687004</td>\n",
       "      <td>0.000000</td>\n",
       "      <td>4.363049</td>\n",
       "      <td>-0.140835</td>\n",
       "      <td>0.317881</td>\n",
       "      <td>-0.990033</td>\n",
       "      <td>8</td>\n",
       "      <td>434.583333</td>\n",
       "      <td>246.166667</td>\n",
       "      <td>56.250000</td>\n",
       "      <td>303.916667</td>\n",
       "      <td>193.083333</td>\n",
       "      <td>131.833333</td>\n",
       "      <td>0</td>\n",
       "    </tr>\n",
       "    <tr>\n",
       "      <th>1</th>\n",
       "      <td>40</td>\n",
       "      <td>94387.2472</td>\n",
       "      <td>3295445.781</td>\n",
       "      <td>0.571676</td>\n",
       "      <td>8.177277</td>\n",
       "      <td>6.086994</td>\n",
       "      <td>4.996416</td>\n",
       "      <td>4.703273</td>\n",
       "      <td>2.327391</td>\n",
       "      <td>-0.393406</td>\n",
       "      <td>0.317414</td>\n",
       "      <td>-0.919365</td>\n",
       "      <td>12</td>\n",
       "      <td>434.583333</td>\n",
       "      <td>246.166667</td>\n",
       "      <td>56.250000</td>\n",
       "      <td>303.916667</td>\n",
       "      <td>193.083333</td>\n",
       "      <td>131.833333</td>\n",
       "      <td>0</td>\n",
       "    </tr>\n",
       "    <tr>\n",
       "      <th>2</th>\n",
       "      <td>44</td>\n",
       "      <td>96074.4400</td>\n",
       "      <td>3295384.595</td>\n",
       "      <td>0.599995</td>\n",
       "      <td>7.776092</td>\n",
       "      <td>4.100328</td>\n",
       "      <td>2.452830</td>\n",
       "      <td>4.214868</td>\n",
       "      <td>2.780289</td>\n",
       "      <td>0.974567</td>\n",
       "      <td>0.308773</td>\n",
       "      <td>-0.224095</td>\n",
       "      <td>10</td>\n",
       "      <td>436.250000</td>\n",
       "      <td>246.083333</td>\n",
       "      <td>56.333333</td>\n",
       "      <td>303.333333</td>\n",
       "      <td>193.083333</td>\n",
       "      <td>131.750000</td>\n",
       "      <td>0</td>\n",
       "    </tr>\n",
       "    <tr>\n",
       "      <th>3</th>\n",
       "      <td>46</td>\n",
       "      <td>96918.0291</td>\n",
       "      <td>3295354.098</td>\n",
       "      <td>0.645856</td>\n",
       "      <td>6.104195</td>\n",
       "      <td>6.105993</td>\n",
       "      <td>5.745223</td>\n",
       "      <td>0.000000</td>\n",
       "      <td>3.697116</td>\n",
       "      <td>-0.121272</td>\n",
       "      <td>0.290225</td>\n",
       "      <td>0.992619</td>\n",
       "      <td>12</td>\n",
       "      <td>437.416667</td>\n",
       "      <td>245.833333</td>\n",
       "      <td>56.333333</td>\n",
       "      <td>303.333333</td>\n",
       "      <td>193.083333</td>\n",
       "      <td>131.750000</td>\n",
       "      <td>0</td>\n",
       "    </tr>\n",
       "    <tr>\n",
       "      <th>4</th>\n",
       "      <td>74</td>\n",
       "      <td>89367.3706</td>\n",
       "      <td>3296767.165</td>\n",
       "      <td>0.585960</td>\n",
       "      <td>7.707360</td>\n",
       "      <td>0.507525</td>\n",
       "      <td>0.245173</td>\n",
       "      <td>4.514750</td>\n",
       "      <td>2.977758</td>\n",
       "      <td>-0.910175</td>\n",
       "      <td>0.193625</td>\n",
       "      <td>-0.414224</td>\n",
       "      <td>7</td>\n",
       "      <td>429.583333</td>\n",
       "      <td>246.750000</td>\n",
       "      <td>56.250000</td>\n",
       "      <td>305.000000</td>\n",
       "      <td>193.166667</td>\n",
       "      <td>132.000000</td>\n",
       "      <td>0</td>\n",
       "    </tr>\n",
       "  </tbody>\n",
       "</table>\n",
       "</div>"
      ],
      "text/plain": [
       "   OID_           X            Y     Hurst       TWI    TPI300     TPI50  \\\n",
       "0    39  93965.4461  3295461.117  0.658765  5.938030  2.100799  1.687004   \n",
       "1    40  94387.2472  3295445.781  0.571676  8.177277  6.086994  4.996416   \n",
       "2    44  96074.4400  3295384.595  0.599995  7.776092  4.100328  2.452830   \n",
       "3    46  96918.0291  3295354.098  0.645856  6.104195  6.105993  5.745223   \n",
       "4    74  89367.3706  3296767.165  0.585960  7.707360  0.507525  0.245173   \n",
       "\n",
       "        SPI     Slope        NS        DD        EW  Elv          pr  \\\n",
       "0  0.000000  4.363049 -0.140835  0.317881 -0.990033    8  434.583333   \n",
       "1  4.703273  2.327391 -0.393406  0.317414 -0.919365   12  434.583333   \n",
       "2  4.214868  2.780289  0.974567  0.308773 -0.224095   10  436.250000   \n",
       "3  0.000000  3.697116 -0.121272  0.290225  0.992619   12  437.416667   \n",
       "4  4.514750  2.977758 -0.910175  0.193625 -0.414224    7  429.583333   \n",
       "\n",
       "           co        no2          o3        pm10         so2  Hurtz  \n",
       "0  246.166667  56.250000  303.916667  193.083333  131.833333      0  \n",
       "1  246.166667  56.250000  303.916667  193.083333  131.833333      0  \n",
       "2  246.083333  56.333333  303.333333  193.083333  131.750000      0  \n",
       "3  245.833333  56.333333  303.333333  193.083333  131.750000      0  \n",
       "4  246.750000  56.250000  305.000000  193.166667  132.000000      0  "
      ]
     },
     "execution_count": 2,
     "metadata": {},
     "output_type": "execute_result"
    }
   ],
   "source": [
    "dataset = pd.read_csv(r\"C:\\Users\\a.amanambu\\Desktop\\posting\\data_new.csv\")\n",
    "\n",
    "# divide data by dependent and features (predictor) variables\n",
    "X_features = dataset.iloc[:,4:15].values\n",
    "y_dependent = dataset.iloc[:, -1].values\n",
    "\n",
    "\n",
    "#show the first 5 samples\n",
    "dataset.head(5)"
   ]
  },
  {
   "cell_type": "markdown",
   "id": "814f7e9f",
   "metadata": {},
   "source": [
    "# Splitting the dataset into the Training set and Test set"
   ]
  },
  {
   "cell_type": "code",
   "execution_count": 3,
   "id": "4f6123ba",
   "metadata": {},
   "outputs": [
    {
     "name": "stdout",
     "output_type": "stream",
     "text": [
      "[[ 13.5307617 -12.168354  -14.0186119 ...  34.        420.9166667\n",
      "  250.9166667]\n",
      " [  6.7952623  -4.3285103   0.7942657 ...  42.        412.1666667\n",
      "  258.       ]\n",
      " [  8.5324831 -12.7477493   0.9043961 ...  77.        327.1666667\n",
      "  269.0833333]\n",
      " ...\n",
      " [ 15.2237787 -28.8240509 -16.9965515 ... 148.        295.75\n",
      "  280.3333333]\n",
      " [  8.8472557 -33.5129623  -8.3799896 ...  65.        287.9166667\n",
      "  284.5833333]\n",
      " [  5.8950529   5.3778992  12.2637329 ... 307.        274.5833333\n",
      "  420.75     ]]\n"
     ]
    }
   ],
   "source": [
    "from sklearn.model_selection import train_test_split\n",
    "X_train, X_validate, y_train, y_validate = train_test_split(X_features, y_dependent, test_size = 0.25, random_state = 0)\n",
    "print(X_train)"
   ]
  },
  {
   "cell_type": "markdown",
   "id": "44aaf436",
   "metadata": {},
   "source": [
    "# Feature Scaling"
   ]
  },
  {
   "cell_type": "code",
   "execution_count": 4,
   "id": "fedcdf9b",
   "metadata": {},
   "outputs": [],
   "source": [
    "from sklearn.preprocessing import StandardScaler\n",
    "sc = StandardScaler()\n",
    "X_train = sc.fit_transform(X_train)\n",
    "X_validate = sc.transform(X_validate)"
   ]
  },
  {
   "cell_type": "markdown",
   "id": "7c84ab73",
   "metadata": {},
   "source": [
    "# Create a function that will collect or stack all models for an esemble model"
   ]
  },
  {
   "cell_type": "code",
   "execution_count": 7,
   "id": "227b86d8",
   "metadata": {},
   "outputs": [],
   "source": [
    "from sklearn.linear_model import LogisticRegression\n",
    "from sklearn.svm import SVC\n",
    "from sklearn.naive_bayes import GaussianNB\n",
    "from sklearn.ensemble import RandomForestClassifier\n",
    "from sklearn.neighbors import KNeighborsClassifier\n",
    "from sklearn.tree import DecisionTreeClassifier\n",
    "from sklearn.ensemble import StackingClassifier\n",
    "\n",
    "# define a stacking esemble model\n",
    "def stacked_esemble():\n",
    "    \n",
    "    #collate the models to evaluate\n",
    "    model_to_stack = list()\n",
    "    model_to_stack.append(('NB', GaussianNB()))\n",
    "    model_to_stack.append(('KS', SVC(kernel = 'rbf')))\n",
    "    model_to_stack.append(('RF', RandomForestClassifier(n_estimators = 10, criterion = 'entropy')))\n",
    "    model_to_stack.append(('KN', KNeighborsClassifier(n_neighbors = 5, metric = 'minkowski', p = 2)))\n",
    "    model_to_stack.append(('CT', DecisionTreeClassifier(criterion = 'entropy')))\n",
    "    \n",
    "    # define the most basic model that will learn the best way to combine all other models\n",
    "    basic_model = GaussianNB()\n",
    "    \n",
    "    #create the the esemble model by stacking them\n",
    "    esemble_model = StackingClassifier(model_to_stack, basic_model, cv = 5)\n",
    "    return esemble_model"
   ]
  },
  {
   "cell_type": "markdown",
   "id": "4f827571",
   "metadata": {},
   "source": [
    "# Make a function a dictionary of all the classififers for model evaluation purpose"
   ]
  },
  {
   "cell_type": "code",
   "execution_count": 8,
   "id": "db75d4a3",
   "metadata": {},
   "outputs": [],
   "source": [
    "# define the list of models for predcition\n",
    "\n",
    "def list_classifiers():\n",
    "    classifiers = dict()\n",
    "    classifiers['NB'] = GaussianNB()\n",
    "    classifiers['KS'] = SVC(kernel = 'rbf')\n",
    "    classifiers['RF'] = RandomForestClassifier(n_estimators = 10, criterion = 'entropy')\n",
    "    classifiers['KN'] = KNeighborsClassifier(n_neighbors = 5, metric = 'minkowski', p = 2)\n",
    "    classifiers['CT'] = DecisionTreeClassifier(criterion = 'entropy')\n",
    "    \n",
    "    # define the stcking esemble models\n",
    "    classifiers['EM'] = stacked_esemble()\n",
    "    return classifiers"
   ]
  },
  {
   "cell_type": "markdown",
   "id": "c4d2d17f",
   "metadata": {},
   "source": [
    "# function to evaluate models using K-fold Cross validation"
   ]
  },
  {
   "cell_type": "code",
   "execution_count": 9,
   "id": "f362c10c",
   "metadata": {},
   "outputs": [],
   "source": [
    "from sklearn.model_selection import cross_val_score\n",
    "from sklearn.model_selection import RepeatedKFold\n",
    "# cv = RepeatedKFold(n_splits=10, n_repeats=10, random_state=1)\n",
    "# accuracies = cross_val_score(classifier, X_train, y_train, cv = cv)\n",
    "# print('Accuracy: {:.2f} %'.format(accuracies.mean()*100))\n",
    "# print('standard deviation: {:.2f} %'.format(accuracies.std()*100))\n",
    "\n",
    "\n",
    "def cross_evaluation(classifiers, X_train, y_train):\n",
    "    accuracies = cross_val_score(classifier, X_train, y_train, cv = 5)\n",
    "    return accuracies"
   ]
  },
  {
   "cell_type": "markdown",
   "id": "fca2cb2f",
   "metadata": {},
   "source": [
    "# Retreive the models that we need to evaluate from the classifier function"
   ]
  },
  {
   "cell_type": "code",
   "execution_count": null,
   "id": "b12a08a1",
   "metadata": {},
   "outputs": [
    {
     "name": "stdout",
     "output_type": "stream",
     "text": [
      ">NB 0.790 (0.110)\n",
      ">KS 0.907 (0.000)\n",
      ">RF 0.906 (0.001)\n",
      ">KN 0.900 (0.001)\n",
      ">CT 0.836 (0.004)\n"
     ]
    }
   ],
   "source": [
    "from numpy import mean, std\n",
    "# retrieve the models itn an object\n",
    "classifiers = list_classifiers()\n",
    "\n",
    "#create an empy lsit where all the results will be imported into\n",
    "output, classifier_names = list(), list()\n",
    "\n",
    "# cross evalute the models with kfold cross validation\n",
    "for classifier_name, classifier in classifiers.items():\n",
    "    accuracies = cross_evaluation(classifier, X_train, y_train)\n",
    "    output.append(accuracies)\n",
    "    classifier_names.append(classifier_name)\n",
    "    print('>%s %.3f (%.3f)' % (classifier_name, mean(accuracies), std(accuracies)))"
   ]
  },
  {
   "cell_type": "markdown",
   "id": "5bc2fd6a",
   "metadata": {},
   "source": [
    "# Make a Box plot to campare"
   ]
  },
  {
   "cell_type": "code",
   "execution_count": 11,
   "id": "87adb21e",
   "metadata": {},
   "outputs": [
    {
     "data": {
      "image/png": "[encoded data removed]",
      "text/plain": [
       "<Figure size 432x288 with 1 Axes>"
      ]
     },
     "metadata": {
      "needs_background": "light"
     },
     "output_type": "display_data"
    }
   ],
   "source": [
    "from matplotlib import pyplot\n",
    "pyplot.boxplot(output, labels = classifier_names, showmeans = True)\n",
    "pyplot.show()"
   ]
  },
  {
   "cell_type": "code",
   "execution_count": null,
   "id": "9c34ada0",
   "metadata": {},
   "outputs": [],
   "source": []
  }
 ],
 "metadata": {
  "kernelspec": {
   "display_name": "Python 3 (ipykernel)",
   "language": "python",
   "name": "python3"
  },
  "language_info": {
   "codemirror_mode": {
    "name": "ipython",
    "version": 3
   },
   "file_extension": ".py",
   "mimetype": "text/x-python",
   "name": "python",
   "nbconvert_exporter": "python",
   "pygments_lexer": "ipython3",
   "version": "3.7.13"
  }
 },
 "nbformat": 4,
 "nbformat_minor": 5
}
